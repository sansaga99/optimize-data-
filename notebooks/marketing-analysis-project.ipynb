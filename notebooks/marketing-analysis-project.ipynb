{
 "cells": [
  {
   "cell_type": "markdown",
   "metadata": {},
   "source": [
    "## Analisis para optimizacion de gastos de marketing de Showsz"
   ]
  },
  {
   "cell_type": "code",
   "execution_count": 96,
   "metadata": {},
   "outputs": [],
   "source": [
    "import pandas as pd "
   ]
  },
  {
   "cell_type": "code",
   "execution_count": 3,
   "metadata": {},
   "outputs": [],
   "source": [
    "visits = pd.read_csv('/datasets/visits_log_us.csv')\n",
    "orders = pd.read_csv('/datasets/orders_log_us.csv')\n",
    "costs = pd.read_csv('/datasets/costs_us.csv')"
   ]
  },
  {
   "cell_type": "code",
   "execution_count": 4,
   "metadata": {},
   "outputs": [
    {
     "name": "stdout",
     "output_type": "stream",
     "text": [
      "<class 'pandas.core.frame.DataFrame'>\n",
      "RangeIndex: 359400 entries, 0 to 359399\n",
      "Data columns (total 5 columns):\n",
      " #   Column     Non-Null Count   Dtype \n",
      "---  ------     --------------   ----- \n",
      " 0   Device     359400 non-null  object\n",
      " 1   End Ts     359400 non-null  object\n",
      " 2   Source Id  359400 non-null  int64 \n",
      " 3   Start Ts   359400 non-null  object\n",
      " 4   Uid        359400 non-null  uint64\n",
      "dtypes: int64(1), object(3), uint64(1)\n",
      "memory usage: 13.7+ MB\n",
      "None\n",
      "\n",
      "<class 'pandas.core.frame.DataFrame'>\n",
      "RangeIndex: 50415 entries, 0 to 50414\n",
      "Data columns (total 3 columns):\n",
      " #   Column   Non-Null Count  Dtype  \n",
      "---  ------   --------------  -----  \n",
      " 0   Buy Ts   50415 non-null  object \n",
      " 1   Revenue  50415 non-null  float64\n",
      " 2   Uid      50415 non-null  uint64 \n",
      "dtypes: float64(1), object(1), uint64(1)\n",
      "memory usage: 1.2+ MB\n",
      "None\n",
      "\n",
      "<class 'pandas.core.frame.DataFrame'>\n",
      "RangeIndex: 2542 entries, 0 to 2541\n",
      "Data columns (total 3 columns):\n",
      " #   Column     Non-Null Count  Dtype  \n",
      "---  ------     --------------  -----  \n",
      " 0   source_id  2542 non-null   int64  \n",
      " 1   dt         2542 non-null   object \n",
      " 2   costs      2542 non-null   float64\n",
      "dtypes: float64(1), int64(1), object(1)\n",
      "memory usage: 59.7+ KB\n",
      "None\n"
     ]
    }
   ],
   "source": [
    "print(visits.info())\n",
    "print()\n",
    "print(orders.info())\n",
    "print()\n",
    "print(costs.info())"
   ]
  },
  {
   "cell_type": "code",
   "execution_count": 5,
   "metadata": {},
   "outputs": [],
   "source": [
    "visits['Start Ts'] = pd.to_datetime(visits['Start Ts'])\n",
    "visits['End Ts'] = pd.to_datetime(visits['End Ts'])"
   ]
  },
  {
   "cell_type": "code",
   "execution_count": 6,
   "metadata": {},
   "outputs": [],
   "source": [
    "orders['Buy Ts'] = pd.to_datetime(orders['Buy Ts'])\n",
    "costs['dt'] = pd.to_datetime(costs['dt'])"
   ]
  },
  {
   "cell_type": "code",
   "execution_count": 7,
   "metadata": {},
   "outputs": [],
   "source": [
    "def clean_columns(df):\n",
    "    df.columns = df.columns.str.strip().str.lower().str.replace(' ', '_')\n",
    "    return df"
   ]
  },
  {
   "cell_type": "code",
   "execution_count": 8,
   "metadata": {},
   "outputs": [],
   "source": [
    "visits = clean_columns(visits)\n",
    "orders = clean_columns(orders)\n",
    "costs = clean_columns(costs)"
   ]
  },
  {
   "cell_type": "code",
   "execution_count": 9,
   "metadata": {},
   "outputs": [
    {
     "name": "stdout",
     "output_type": "stream",
     "text": [
      "Visitas: Index(['device', 'end_ts', 'source_id', 'start_ts', 'uid'], dtype='object')\n",
      "Pedidos: Index(['buy_ts', 'revenue', 'uid'], dtype='object')\n",
      "Costos: Index(['source_id', 'dt', 'costs'], dtype='object')\n"
     ]
    }
   ],
   "source": [
    "print(\"Visitas:\", visits.columns)\n",
    "print(\"Pedidos:\", orders.columns)\n",
    "print(\"Costos:\", costs.columns)"
   ]
  },
  {
   "cell_type": "code",
   "execution_count": 10,
   "metadata": {},
   "outputs": [
    {
     "name": "stdout",
     "output_type": "stream",
     "text": [
      "<class 'pandas.core.frame.DataFrame'>\n",
      "RangeIndex: 359400 entries, 0 to 359399\n",
      "Data columns (total 5 columns):\n",
      " #   Column     Non-Null Count   Dtype         \n",
      "---  ------     --------------   -----         \n",
      " 0   device     359400 non-null  object        \n",
      " 1   end_ts     359400 non-null  datetime64[ns]\n",
      " 2   source_id  359400 non-null  int64         \n",
      " 3   start_ts   359400 non-null  datetime64[ns]\n",
      " 4   uid        359400 non-null  uint64        \n",
      "dtypes: datetime64[ns](2), int64(1), object(1), uint64(1)\n",
      "memory usage: 13.7+ MB\n",
      "None\n",
      "\n",
      "<class 'pandas.core.frame.DataFrame'>\n",
      "RangeIndex: 50415 entries, 0 to 50414\n",
      "Data columns (total 3 columns):\n",
      " #   Column   Non-Null Count  Dtype         \n",
      "---  ------   --------------  -----         \n",
      " 0   buy_ts   50415 non-null  datetime64[ns]\n",
      " 1   revenue  50415 non-null  float64       \n",
      " 2   uid      50415 non-null  uint64        \n",
      "dtypes: datetime64[ns](1), float64(1), uint64(1)\n",
      "memory usage: 1.2 MB\n",
      "None\n",
      "\n",
      "<class 'pandas.core.frame.DataFrame'>\n",
      "RangeIndex: 2542 entries, 0 to 2541\n",
      "Data columns (total 3 columns):\n",
      " #   Column     Non-Null Count  Dtype         \n",
      "---  ------     --------------  -----         \n",
      " 0   source_id  2542 non-null   int64         \n",
      " 1   dt         2542 non-null   datetime64[ns]\n",
      " 2   costs      2542 non-null   float64       \n",
      "dtypes: datetime64[ns](1), float64(1), int64(1)\n",
      "memory usage: 59.7 KB\n",
      "None\n"
     ]
    }
   ],
   "source": [
    "print(visits.info())\n",
    "print()\n",
    "print(orders.info())\n",
    "print()\n",
    "print(costs.info())"
   ]
  },
  {
   "cell_type": "markdown",
   "metadata": {},
   "source": [
    "**Comentarios**\n",
    "cambiamos las columnas de fechas al formato 'datetime' para su correcto analisis.\n",
    "Ademas modificamos las columnas al minusculas y con las separacion '_' para manejar los datos con mas facilidad."
   ]
  },
  {
   "cell_type": "code",
   "execution_count": 11,
   "metadata": {},
   "outputs": [],
   "source": [
    "daily_users = visits.groupby(visits['start_ts'].dt.date)['uid'].nunique()\n",
    "weekly_users = visits.groupby(visits['start_ts'].dt.to_period('W'))['uid'].nunique()\n",
    "monthly_users = visits.groupby(visits['start_ts'].dt.to_period('M'))['uid'].nunique()"
   ]
  },
  {
   "cell_type": "code",
   "execution_count": 12,
   "metadata": {},
   "outputs": [
    {
     "name": "stdout",
     "output_type": "stream",
     "text": [
      "Usuarios únicos por día:\n",
      "start_ts\n",
      "2017-06-01    605\n",
      "2017-06-02    608\n",
      "2017-06-03    445\n",
      "2017-06-04    476\n",
      "2017-06-05    820\n",
      "Name: uid, dtype: int64\n",
      "\n",
      "Usuarios únicos por semana:\n",
      "start_ts\n",
      "2017-05-29/2017-06-04    2021\n",
      "2017-06-05/2017-06-11    4129\n",
      "2017-06-12/2017-06-18    2812\n",
      "2017-06-19/2017-06-25    2878\n",
      "2017-06-26/2017-07-02    3064\n",
      "Freq: W-SUN, Name: uid, dtype: int64\n",
      "\n",
      "Usuarios únicos por mes:\n",
      "start_ts\n",
      "2017-06    13259\n",
      "2017-07    14183\n",
      "2017-08    11631\n",
      "2017-09    18975\n",
      "2017-10    29692\n",
      "Freq: M, Name: uid, dtype: int64\n"
     ]
    }
   ],
   "source": [
    "print(\"Usuarios únicos por día:\")\n",
    "print(daily_users.head())\n",
    "\n",
    "print(\"\\nUsuarios únicos por semana:\")\n",
    "print(weekly_users.head())\n",
    "\n",
    "print(\"\\nUsuarios únicos por mes:\")\n",
    "print(monthly_users.head())"
   ]
  },
  {
   "cell_type": "code",
   "execution_count": 13,
   "metadata": {},
   "outputs": [],
   "source": [
    "daily_sessions = visits.groupby(visits['start_ts'].dt.date)['uid'].count()"
   ]
  },
  {
   "cell_type": "code",
   "execution_count": 14,
   "metadata": {},
   "outputs": [
    {
     "name": "stdout",
     "output_type": "stream",
     "text": [
      "Sesiones por día:\n",
      "start_ts\n",
      "2017-06-01    664\n",
      "2017-06-02    658\n",
      "2017-06-03    477\n",
      "2017-06-04    510\n",
      "2017-06-05    893\n",
      "Name: uid, dtype: int64\n"
     ]
    }
   ],
   "source": [
    "print(\"Sesiones por día:\")\n",
    "print(daily_sessions.head())"
   ]
  },
  {
   "cell_type": "code",
   "execution_count": 15,
   "metadata": {},
   "outputs": [
    {
     "name": "stdout",
     "output_type": "stream",
     "text": [
      "count    359400.000000\n",
      "mean         10.717095\n",
      "std          16.618796\n",
      "min         -46.000000\n",
      "25%           2.000000\n",
      "50%           5.000000\n",
      "75%          14.000000\n",
      "max         711.000000\n",
      "Name: session_duration_min, dtype: float64\n"
     ]
    }
   ],
   "source": [
    "# Calcular duración de la sesión en minutos\n",
    "visits['session_duration_min'] = (visits['end_ts'] - visits['start_ts']).dt.total_seconds() / 60\n",
    "\n",
    "# Ver estadísticas descriptivas\n",
    "print(visits['session_duration_min'].describe())"
   ]
  },
  {
   "cell_type": "code",
   "execution_count": 16,
   "metadata": {},
   "outputs": [
    {
     "name": "stdout",
     "output_type": "stream",
     "text": [
      "count    228169.000000\n",
      "mean          1.575144\n",
      "std           4.646800\n",
      "min           1.000000\n",
      "25%           1.000000\n",
      "50%           1.000000\n",
      "75%           1.000000\n",
      "max         893.000000\n",
      "Name: start_ts, dtype: float64\n"
     ]
    }
   ],
   "source": [
    "# Contar cuántos días distintos visitó cada usuario\n",
    "user_visits = visits.groupby('uid')['start_ts'].nunique()\n",
    "\n",
    "# Estadísticas de retorno\n",
    "print(user_visits.describe())"
   ]
  },
  {
   "cell_type": "code",
   "execution_count": 20,
   "metadata": {},
   "outputs": [
    {
     "data": {
      "image/png": "[encoded data removed]",
      "text/plain": [
       "<Figure size 1000x500 with 1 Axes>"
      ]
     },
     "metadata": {},
     "output_type": "display_data"
    }
   ],
   "source": [
    "import matplotlib.pyplot as plt\n",
    "\n",
    "plt.figure(figsize=(10, 5))\n",
    "user_visits.hist(bins=40)\n",
    "plt.title(\"Distribución de la cantidad de días que un usuario regresó\")\n",
    "plt.xlabel(\"Cantidad de días activos\")\n",
    "plt.ylabel(\"Número de usuarios\")\n",
    "plt.grid(True)\n",
    "plt.show()"
   ]
  },
  {
   "cell_type": "markdown",
   "metadata": {},
   "source": [
    "## Análisis de Visitas\n",
    "\n",
    "Se realizó un análisis exploratorio para comprender cómo interactúan los usuarios con la plataforma a través de sus visitas. A continuación, se detallan los hallazgos:\n",
    "\n",
    "### Usuarios únicos\n",
    "- **Diarios:** Se observaron entre 445 y 893 usuarios únicos por día. El 1 de junio de 2017, por ejemplo, hubo 605 usuarios únicos.\n",
    "- **Semanales:** La cifra varió de ~2,000 a ~4,000 usuarios únicos por semana.\n",
    "- **Mensuales:** El crecimiento mensual fue notable, pasando de 13,259 en junio a 29,692 en octubre de 2017.\n",
    "\n",
    "Esto indica una tendencia de crecimiento saludable en la base de usuarios a lo largo del tiempo.\n",
    "\n",
    "### Sesiones por día\n",
    "El número de sesiones diarias fue ligeramente superior al número de usuarios únicos por día, lo cual es lógico, ya que un usuario puede tener múltiples sesiones en un día. Por ejemplo, el 5 de junio se registraron 893 sesiones frente a 820 usuarios únicos.\n",
    "\n",
    "### Duración de sesión\n",
    "- **Promedio:** 10.7 minutos\n",
    "- **Mediana:** 5 minutos\n",
    "- **Distribución:** Aunque el promedio es razonable, se observan valores negativos y muy altos (mínimo de -46 minutos y máximo de 711 minutos), lo cual sugiere que podría haber errores de registro en los datos.\n",
    "\n",
    "### Frecuencia de retorno\n",
    "- **Mediana de días activos por usuario:** 1 día\n",
    "- **Máximo:** 893 días, aunque este valor parece anómalo dado el período del dataset.\n",
    "- La gran mayoría de los usuarios visitó el sitio solo una vez, lo cual puede indicar baja retención o una etapa temprana de adopción de la plataforma.\n",
    "\n",
    "> Estos hallazgos servirán como base para entender la conversión a ventas y cómo influye el canal de adquisición en la calidad del tráfico."
   ]
  },
  {
   "cell_type": "code",
   "execution_count": 30,
   "metadata": {},
   "outputs": [],
   "source": [
    "# Primera visita de cada usuario\n",
    "first_visits = visits.groupby('uid')['start_ts'].min().reset_index()\n",
    "first_visits.columns = ['uid', 'first_visit_date']"
   ]
  },
  {
   "cell_type": "code",
   "execution_count": 27,
   "metadata": {},
   "outputs": [],
   "source": [
    "# Primera compra de cada usuario\n",
    "first_orders = orders.groupby('uid')['buy_ts'].min().reset_index()\n",
    "first_orders.columns = ['uid', 'first_order_date']"
   ]
  },
  {
   "cell_type": "code",
   "execution_count": 33,
   "metadata": {},
   "outputs": [],
   "source": [
    "# Unir visitas y compras\n",
    "conversion = pd.merge(first_visits, first_orders, on='uid')"
   ]
  },
  {
   "cell_type": "code",
   "execution_count": 44,
   "metadata": {},
   "outputs": [],
   "source": [
    "conversion['conversion_days'] = (conversion['first_order_date'] - conversion['first_visit_date']).dt.days"
   ]
  },
  {
   "cell_type": "code",
   "execution_count": 45,
   "metadata": {},
   "outputs": [
    {
     "data": {
      "text/plain": [
       "36518    18445147675727495770\n",
       "36519    18445407535914413204\n",
       "36520    18445601152732270159\n",
       "36521    18446156210226471712\n",
       "36522    18446167067214817906\n",
       "Name: uid, dtype: uint64"
      ]
     },
     "execution_count": 45,
     "metadata": {},
     "output_type": "execute_result"
    }
   ],
   "source": [
    "conversion['uid'].tail()"
   ]
  },
  {
   "cell_type": "code",
   "execution_count": 41,
   "metadata": {},
   "outputs": [],
   "source": [
    "# Agrupar por cantidad de días hasta la conversión\n",
    "conversion_distribution = conversion['conversion_days'].value_counts().sort_index()"
   ]
  },
  {
   "cell_type": "code",
   "execution_count": 40,
   "metadata": {},
   "outputs": [
    {
     "name": "stdout",
     "output_type": "stream",
     "text": [
      "0    26363\n",
      "1     1011\n",
      "2      563\n",
      "3      434\n",
      "4      324\n",
      "5      270\n",
      "6      260\n",
      "7      218\n",
      "8      189\n",
      "9      140\n",
      "Name: conversion_days, dtype: int64\n"
     ]
    }
   ],
   "source": [
    "print(conversion_distribution.head(10))"
   ]
  },
  {
   "cell_type": "markdown",
   "metadata": {},
   "source": [
    "## Análisis de Conversión: ¿Cuándo comienzan a comprar los usuarios?\n",
    "\n",
    "Se estudió cuántos días transcurren entre la primera visita y la primera compra para cada usuario. Los resultados muestran cuántos usuarios se convierten según la cantidad de días transcurridos desde su primera visita.\n",
    "\n",
    "### Resultados principales:\n",
    "- **Conversion 0d** (misma fecha de visita y compra): 26,363 usuarios\n",
    "- **Conversion 1d:** 1,011 usuarios\n",
    "- **Conversion 2d:** 563 usuarios\n",
    "- **Conversion 3d:** 434 usuarios\n",
    "- La cantidad de conversiones disminuye rápidamente después del primer día.\n",
    "\n",
    "### Conclusiones:\n",
    "- **El 70%+ de los usuarios convierten el mismo día que visitan el sitio.**\n",
    "- Esto indica que las decisiones de compra son altamente impulsivas o que el producto/servicio tiene una propuesta de valor clara y efectiva.\n",
    "- Los esfuerzos de marketing que lleven tráfico al sitio probablemente tengan un efecto inmediato en las conversiones. \n"
   ]
  },
  {
   "cell_type": "code",
   "execution_count": 46,
   "metadata": {},
   "outputs": [],
   "source": [
    "# Pedidos por día\n",
    "orders_per_day = orders.groupby(orders['buy_ts'].dt.date)['uid'].count()"
   ]
  },
  {
   "cell_type": "code",
   "execution_count": 47,
   "metadata": {},
   "outputs": [],
   "source": [
    "# Pedidos por semana\n",
    "orders_per_week = orders.groupby(orders['buy_ts'].dt.to_period('W'))['uid'].count()"
   ]
  },
  {
   "cell_type": "code",
   "execution_count": 49,
   "metadata": {},
   "outputs": [],
   "source": [
    "# Pedidos por mes\n",
    "orders_per_month = orders.groupby(orders['buy_ts'].dt.to_period('M'))['uid'].count()"
   ]
  },
  {
   "cell_type": "code",
   "execution_count": 51,
   "metadata": {},
   "outputs": [
    {
     "name": "stdout",
     "output_type": "stream",
     "text": [
      "Pedidos por día:\n",
      "buy_ts\n",
      "2017-06-01     96\n",
      "2017-06-02    111\n",
      "2017-06-03     67\n",
      "2017-06-04     66\n",
      "2017-06-05    161\n",
      "Name: uid, dtype: int64\n",
      "\n",
      "Pedidos por semana:\n",
      "buy_ts\n",
      "2017-05-29/2017-06-04    340\n",
      "2017-06-05/2017-06-11    938\n",
      "2017-06-12/2017-06-18    343\n",
      "2017-06-19/2017-06-25    371\n",
      "2017-06-26/2017-07-02    460\n",
      "Freq: W-SUN, Name: uid, dtype: int64\n",
      "\n",
      "Pedidos por mes:\n",
      "buy_ts\n",
      "2017-06    2354\n",
      "2017-07    2363\n",
      "2017-08    1807\n",
      "2017-09    3387\n",
      "2017-10    5679\n",
      "Freq: M, Name: uid, dtype: int64\n"
     ]
    }
   ],
   "source": [
    "print(\"Pedidos por día:\")\n",
    "print(orders_per_day.head())\n",
    "print()\n",
    "print(\"Pedidos por semana:\")\n",
    "print(orders_per_week.head())\n",
    "print()\n",
    "print(\"Pedidos por mes:\")\n",
    "print(orders_per_month.head())"
   ]
  },
  {
   "cell_type": "code",
   "execution_count": 58,
   "metadata": {},
   "outputs": [
    {
     "data": {
      "image/png": "[encoded data removed]",
      "text/plain": [
       "<Figure size 1200x500 with 1 Axes>"
      ]
     },
     "metadata": {},
     "output_type": "display_data"
    }
   ],
   "source": [
    "plt.figure(figsize=(12, 5))\n",
    "orders_per_day.plot()\n",
    "plt.title(\"Número de pedidos por día\")\n",
    "plt.xlabel(\"Fecha\")\n",
    "plt.ylabel(\"Pedidos\")\n",
    "plt.grid(True)\n",
    "plt.show()"
   ]
  },
  {
   "cell_type": "code",
   "execution_count": 53,
   "metadata": {},
   "outputs": [
    {
     "name": "stdout",
     "output_type": "stream",
     "text": [
      "Tamaño promedio de compra: $5.00\n"
     ]
    }
   ],
   "source": [
    "avg_order_value = orders['revenue'].mean()\n",
    "print(f\"Tamaño promedio de compra: ${avg_order_value:.2f}\")"
   ]
  },
  {
   "cell_type": "code",
   "execution_count": 54,
   "metadata": {},
   "outputs": [],
   "source": [
    "# LTV: ingreso total por usuario\n",
    "ltv_per_user = orders.groupby('uid')['revenue'].sum()"
   ]
  },
  {
   "cell_type": "code",
   "execution_count": 56,
   "metadata": {},
   "outputs": [
    {
     "name": "stdout",
     "output_type": "stream",
     "text": [
      "LTV promedio por usuario: $6.90\n"
     ]
    }
   ],
   "source": [
    "mean_ltv = ltv_per_user.mean()\n",
    "print(f\"LTV promedio por usuario: ${mean_ltv:.2f}\")"
   ]
  },
  {
   "cell_type": "markdown",
   "metadata": {},
   "source": [
    "## Análisis de Ventas: Pedidos, Tamaño Promedio de Compra y LTV\n",
    "\n",
    "Se analizaron los hábitos de compra de los usuarios a lo largo del tiempo.\n",
    "\n",
    "###  Número de Pedidos\n",
    "\n",
    "- **Por día:** Entre 60 y 160 pedidos diarios, con un crecimiento progresivo a lo largo del período.\n",
    "- **Por semana:**\n",
    "  - Semana del 29 de mayo: 340 pedidos\n",
    "  - Semana del 5 de junio: 938 pedidos\n",
    "- **Por mes:**\n",
    "  - Junio: 2,354 pedidos\n",
    "  - Julio: 2,363 pedidos\n",
    "  - Agosto: 1,807 pedidos\n",
    "  - Septiembre: 3,387 pedidos\n",
    "  - Octubre: 5,679 pedidos\n",
    "\n",
    "> Se observa una **tendencia clara de crecimiento mensual**, particularmente fuerte en octubre.\n",
    "\n",
    "###  Tamaño Promedio de Compra\n",
    "\n",
    "- El **ticket promedio por pedido** es de **$5.00**.\n",
    "- Esto sugiere un servicio de bajo costo, orientado posiblemente a compras impulsivas o de alta recurrencia.\n",
    "\n",
    "###  Valor de Vida del Cliente (LTV)\n",
    "\n",
    "- El **LTV promedio** por usuario es de **$6.90**.\n",
    "- Esto indica que en promedio, cada usuario realiza algo más de una compra en su ciclo de vida.\n",
    "\n",
    "> El bajo LTV relativo al ticket promedio sugiere que la mayoría de los usuarios **compran solo una vez**, por lo tanto, **retenerlos representa una oportunidad clara de aumentar ingresos.**"
   ]
  },
  {
   "cell_type": "code",
   "execution_count": 88,
   "metadata": {},
   "outputs": [],
   "source": [
    "# Total gastado\n",
    "total_cost = costs['costs'].sum()"
   ]
  },
  {
   "cell_type": "code",
   "execution_count": 89,
   "metadata": {},
   "outputs": [],
   "source": [
    "# Gasto por fuente\n",
    "cost_by_source = costs.groupby('source_id')['costs'].sum().sort_values(ascending=False)"
   ]
  },
  {
   "cell_type": "code",
   "execution_count": 90,
   "metadata": {},
   "outputs": [],
   "source": [
    "# Gasto por mes\n",
    "monthly_cost = costs.groupby(costs['dt'].dt.to_period('M'))['costs'].sum()"
   ]
  },
  {
   "cell_type": "code",
   "execution_count": 91,
   "metadata": {},
   "outputs": [
    {
     "name": "stdout",
     "output_type": "stream",
     "text": [
      "Gasto total: $329131.62\n",
      "Gasto por fuente:\n",
      "source_id\n",
      "3    141321.63\n",
      "4     61073.60\n",
      "5     51757.10\n",
      "2     42806.04\n",
      "1     20833.27\n",
      "Name: costs, dtype: float64\n"
     ]
    }
   ],
   "source": [
    "print(f\"Gasto total: ${total_cost:.2f}\")\n",
    "print(\"Gasto por fuente:\")\n",
    "print(cost_by_source.head())"
   ]
  },
  {
   "cell_type": "code",
   "execution_count": 68,
   "metadata": {},
   "outputs": [],
   "source": [
    "users_by_source = visits.groupby('source_id')['uid'].nunique()"
   ]
  },
  {
   "cell_type": "code",
   "execution_count": 74,
   "metadata": {},
   "outputs": [],
   "source": [
    "cost_by_source = costs.groupby('source_id')['costs'].sum()"
   ]
  },
  {
   "cell_type": "code",
   "execution_count": 75,
   "metadata": {},
   "outputs": [],
   "source": [
    "cac = cost_by_source / users_by_source"
   ]
  },
  {
   "cell_type": "code",
   "execution_count": 77,
   "metadata": {},
   "outputs": [],
   "source": [
    "cac = cac.sort_values(ascending=False)"
   ]
  },
  {
   "cell_type": "code",
   "execution_count": 79,
   "metadata": {},
   "outputs": [
    {
     "data": {
      "text/plain": [
       "source_id\n",
       "3     1.890439\n",
       "2     1.631017\n",
       "1     1.096546\n",
       "5     0.908434\n",
       "4     0.731201\n",
       "10    0.721766\n",
       "9     0.595584\n",
       "6          NaN\n",
       "7          NaN\n",
       "dtype: float64"
      ]
     },
     "execution_count": 79,
     "metadata": {},
     "output_type": "execute_result"
    }
   ],
   "source": [
    "cac.head(10)"
   ]
  },
  {
   "cell_type": "code",
   "execution_count": 93,
   "metadata": {},
   "outputs": [
    {
     "data": {
      "image/png": "[encoded data removed]",
      "text/plain": [
       "<Figure size 1200x600 with 1 Axes>"
      ]
     },
     "metadata": {},
     "output_type": "display_data"
    }
   ],
   "source": [
    "plt.figure(figsize=(12, 6))\n",
    "cac.sort_values(ascending=True).plot(kind='barh', color='skyblue')\n",
    "plt.title('CAC por fuente de adquisición')\n",
    "plt.xlabel('Costo de adquisición (CAC)')\n",
    "plt.ylabel('Source ID')\n",
    "plt.grid(axis='x')\n",
    "plt.tight_layout()\n",
    "plt.show()"
   ]
  },
  {
   "cell_type": "code",
   "execution_count": 85,
   "metadata": {},
   "outputs": [],
   "source": [
    "# Usuarios únicos que compraron, por fuente\n",
    "merged = visits[['uid', 'source_id']].merge(orders[['uid', 'revenue']], on='uid')\n",
    "ltv_by_source = merged.groupby('source_id')['revenue'].sum() / users_by_source"
   ]
  },
  {
   "cell_type": "code",
   "execution_count": 87,
   "metadata": {},
   "outputs": [
    {
     "name": "stdout",
     "output_type": "stream",
     "text": [
      "ROMI por fuente:\n",
      "source_id\n",
      "1     109.313944\n",
      "2      60.631237\n",
      "5      21.827344\n",
      "4       7.132649\n",
      "9       5.586736\n",
      "10      1.510821\n",
      "3       1.099381\n",
      "6            NaN\n",
      "7            NaN\n",
      "dtype: float64\n"
     ]
    }
   ],
   "source": [
    "romi = (ltv_by_source * users_by_source) / cost_by_source - 1\n",
    "romi = romi.sort_values(ascending=False)\n",
    "print(\"ROMI por fuente:\")\n",
    "print(romi.head(10))\n"
   ]
  },
  {
   "cell_type": "code",
   "execution_count": 94,
   "metadata": {},
   "outputs": [
    {
     "data": {
      "image/png": "[encoded data removed]",
      "text/plain": [
       "<Figure size 1200x600 with 1 Axes>"
      ]
     },
     "metadata": {},
     "output_type": "display_data"
    }
   ],
   "source": [
    "import matplotlib.pyplot as plt\n",
    "\n",
    "plt.figure(figsize=(12, 6))\n",
    "romi.sort_values(ascending=True).plot(kind='barh', color='green')\n",
    "plt.title('ROMI por fuente de adquisición')\n",
    "plt.xlabel('ROMI')\n",
    "plt.ylabel('Source ID')\n",
    "plt.grid(axis='x')\n",
    "plt.axvline(x=0, color='red', linestyle='--', linewidth=1)  # Línea de referencia en 0\n",
    "plt.tight_layout()\n",
    "plt.show()\n"
   ]
  },
  {
   "cell_type": "markdown",
   "metadata": {},
   "source": [
    "## Conclusión: ¿Dónde invertir en marketing?\n",
    "\n",
    "Con base en el análisis de visitas, pedidos y gastos:\n",
    "\n",
    "### Fuentes más rentables:\n",
    "- **Fuente 1** muestra un **ROMI del 10,831%**, lo que significa que cada dólar invertido genera más de 100 veces su valor en ingresos. Además, su **CAC es razonable** (1.10 USD).\n",
    "- **Fuente 2** también se destaca por su ROMI (6,063%) con un CAC bajo (1.63 USD).\n",
    "- **Fuente 5** y **Fuente 4** son también altamente rentables, con ROMIs de 2,183% y 613%, respectivamente, y CACs por debajo de 1 USD.\n",
    "\n",
    "### Fuentes con bajo rendimiento:\n",
    "- **Fuente 3**, aunque recibió la mayor inversión, tiene el CAC más alto (1.89 USD) y un ROMI relativamente bajo (110%), lo que indica que no fue la fuente más eficiente.\n",
    "\n",
    "### Recomendaciones:\n",
    "1. **Aumentar inversión** en fuentes con alto ROMI y bajo CAC: **1, 2, 5 y 4**.\n",
    "2. **Revisar la estrategia** en la fuente 3: evaluar la calidad del tráfico, el embudo de conversión y la segmentación.\n",
    "3. **Evitar o rediseñar campañas** en fuentes con CAC alto y ROMI bajo o negativo.\n",
    "\n",
    "> En resumen, redistribuir el presupuesto hacia las fuentes con mejor rentabilidad permitirá mejorar significativamente la eficiencia del marketing y el retorno sobre la inversión."
   ]
  }
 ],
 "metadata": {
  "kernelspec": {
   "display_name": "Python 3 (ipykernel)",
   "language": "python",
   "name": "python3"
  },
  "language_info": {
   "codemirror_mode": {
    "name": "ipython",
    "version": 3
   },
   "file_extension": ".py",
   "mimetype": "text/x-python",
   "name": "python",
   "nbconvert_exporter": "python",
   "pygments_lexer": "ipython3",
   "version": "3.9.22"
  }
 },
 "nbformat": 4,
 "nbformat_minor": 4
}
